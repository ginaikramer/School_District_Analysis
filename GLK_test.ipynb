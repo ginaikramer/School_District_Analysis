{
 "cells": [
  {
   "cell_type": "code",
   "execution_count": 1,
   "id": "58a3b395",
   "metadata": {},
   "outputs": [],
   "source": [
    "import pandas as pd\n",
    "import os"
   ]
  },
  {
   "cell_type": "code",
   "execution_count": 4,
   "id": "2e280053",
   "metadata": {},
   "outputs": [],
   "source": [
    "high_school_list=[\"Herndon\", \"South Lakes\", \"Langley\"]\n",
    "high_school_location=[\"Herndon\", \"Reston\", \"McLean\"]\n",
    "school_dataframe=pd.DataFrame()\n",
    "school_dataframe[\"School Name\"]=high_school_list\n",
    "school_dataframe[\"School Location\"]=high_school_location"
   ]
  },
  {
   "cell_type": "code",
   "execution_count": 5,
   "id": "2289e587",
   "metadata": {},
   "outputs": [
    {
     "data": {
      "text/html": [
       "<div>\n",
       "<style scoped>\n",
       "    .dataframe tbody tr th:only-of-type {\n",
       "        vertical-align: middle;\n",
       "    }\n",
       "\n",
       "    .dataframe tbody tr th {\n",
       "        vertical-align: top;\n",
       "    }\n",
       "\n",
       "    .dataframe thead th {\n",
       "        text-align: right;\n",
       "    }\n",
       "</style>\n",
       "<table border=\"1\" class=\"dataframe\">\n",
       "  <thead>\n",
       "    <tr style=\"text-align: right;\">\n",
       "      <th></th>\n",
       "      <th>School Name</th>\n",
       "      <th>School Location</th>\n",
       "    </tr>\n",
       "  </thead>\n",
       "  <tbody>\n",
       "    <tr>\n",
       "      <th>0</th>\n",
       "      <td>Herndon</td>\n",
       "      <td>Herndon</td>\n",
       "    </tr>\n",
       "    <tr>\n",
       "      <th>1</th>\n",
       "      <td>South Lakes</td>\n",
       "      <td>Reston</td>\n",
       "    </tr>\n",
       "    <tr>\n",
       "      <th>2</th>\n",
       "      <td>Langley</td>\n",
       "      <td>McLean</td>\n",
       "    </tr>\n",
       "  </tbody>\n",
       "</table>\n",
       "</div>"
      ],
      "text/plain": [
       "   School Name School Location\n",
       "0      Herndon         Herndon\n",
       "1  South Lakes          Reston\n",
       "2      Langley          McLean"
      ]
     },
     "execution_count": 5,
     "metadata": {},
     "output_type": "execute_result"
    }
   ],
   "source": [
    "school_dataframe"
   ]
  },
  {
   "cell_type": "code",
   "execution_count": 8,
   "id": "440b35f9",
   "metadata": {},
   "outputs": [
    {
     "data": {
      "text/plain": [
       "Index(['School Name', 'School Location'], dtype='object')"
      ]
     },
     "execution_count": 8,
     "metadata": {},
     "output_type": "execute_result"
    }
   ],
   "source": [
    "school_dataframe.columns\n"
   ]
  },
  {
   "cell_type": "code",
   "execution_count": 9,
   "id": "101f5eda",
   "metadata": {},
   "outputs": [
    {
     "data": {
      "text/plain": [
       "array([['Herndon', 'Herndon'],\n",
       "       ['South Lakes', 'Reston'],\n",
       "       ['Langley', 'McLean']], dtype=object)"
      ]
     },
     "execution_count": 9,
     "metadata": {},
     "output_type": "execute_result"
    }
   ],
   "source": [
    "school_dataframe.values\n"
   ]
  },
  {
   "cell_type": "code",
   "execution_count": 10,
   "id": "d42a67fd",
   "metadata": {},
   "outputs": [
    {
     "data": {
      "text/plain": [
       "RangeIndex(start=0, stop=3, step=1)"
      ]
     },
     "execution_count": 10,
     "metadata": {},
     "output_type": "execute_result"
    }
   ],
   "source": [
    "school_dataframe.index"
   ]
  },
  {
   "cell_type": "code",
   "execution_count": null,
   "id": "ef3925d6",
   "metadata": {},
   "outputs": [],
   "source": [
    "school_data_to_load=\"Resources/schools_complete.csv\"\n",
    "student_data_to_load"
   ]
  }
 ],
 "metadata": {
  "kernelspec": {
   "display_name": "PythonData",
   "language": "python",
   "name": "pythondata"
  },
  "language_info": {
   "codemirror_mode": {
    "name": "ipython",
    "version": 3
   },
   "file_extension": ".py",
   "mimetype": "text/x-python",
   "name": "python",
   "nbconvert_exporter": "python",
   "pygments_lexer": "ipython3",
   "version": "3.7.10"
  }
 },
 "nbformat": 4,
 "nbformat_minor": 5
}
